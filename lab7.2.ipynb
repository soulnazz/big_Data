{
 "cells": [
  {
   "cell_type": "code",
   "execution_count": 3,
   "outputs": [],
   "source": [
    "import collections\n",
    "from sklearn.feature_extraction.text import CountVectorizer\n",
    "from sklearn.decomposition import LatentDirichletAllocation\n",
    "import mglearn\n",
    "import matplotlib.pyplot as plt\n",
    "import numpy as np\n"
   ],
   "metadata": {
    "collapsed": false,
    "ExecuteTime": {
     "end_time": "2023-12-15T14:41:18.651113300Z",
     "start_time": "2023-12-15T14:41:13.781389Z"
    }
   },
   "id": "51756310d976cdab"
  },
  {
   "cell_type": "code",
   "execution_count": 12,
   "outputs": [],
   "source": [
    "\n",
    "reviews = [\n",
    "    \"В магазине всегда находишь что-то уникальное. Широкий ассортимент и последние тренды моды делают его отличным местом для шопинга. Обслуживание тоже на высоте!\",\n",
    "    \"Приятно удивлена качеством одежды. Цены приемлемые, а вещи прочные и стильные. Отличный магазин для тех, кто ценит сочетание качества и доступности.\",\n",
    "    \"Персонал очень дружелюбный и готов всегда помочь с выбором. У них есть отличные акции, и качество одежды на высоком уровне. Люблю это место!\",\n",
    "    \"Здесь можно найти базовые вещи, но выбор не такой впечатляющий, как в других местах. Цены адекватные.\",\n",
    "    \"Ничего особенного, обычные вещи, цены тоже стандартные. Ничего, что бы заставило вернуться снова.\",\n",
    "    \"Купил пару вещей, и они разошлись после первой стирки. Качество оставляет желать лучшего, и возврат денег не принимают.\",\n",
    "    \"Это дорогое удовольствие. Неудобные примерочные и высокие цены делают поход в этот магазин неудовольствием. Найдешь лучшее в другом месте.\",\n",
    "    \"Магазин впечатляет разнообразием и стилем. Здесь всегда можно обновить гардероб с актуальными трендами. Персонал дружелюбный, а обслуживание на уровне.\",\n",
    "    \"Магазин порадовал доступными ценами и при этом качественной одеждой. Отличное место для тех, кто ценит экономию без ущерба стилю.\",\n",
    "    \"Магазин предлагают не только стильные, но и удобные вещи. Очень радует, что можно выглядеть модно, не теряя комфорта.\",\n",
    "    \"Магазин  предлагает стандартный выбор. Ничего выдающегося, но можно найти базовые вещи. Цены приемлемые.\",\n",
    "    \"Обычное место для шопинга. Ничего особенного, но и недостатков нет.\",\n",
    "    \"В магазине персонал проявил полное халатное отношение. Ни вежливости, ни помощи с выбором. Очень разочарован.\",\n",
    "    \"Купил блузку, и через пару дней начались раздражения на коже. Качество ткани оставляет желать лучшего. Возврат, к сожалению, невозможен.\",\n",
    "    \"В этом магазине всегда можно отыскать что-то особенное. Богатый выбор и стильные новинки радуют глаз. Обслуживание также на высоте!\",\n",
    "    \"Очень доволен(а) качеством одежды. Цены приемлемые, а вещи прочные и стильные. Отличное место для шопинга с хорошим соотношением цены и качества.\",\n",
    "    \"Магазин предлагает стандартный ассортимент. Ничего выдающегося, но можно найти необходимые вещи по разумным ценам.\",\n",
    "    \"Здесь можно найти обычные вещи, цены соответствуют среднему уровню. Ничего, что бы выделяло этот магазин среди других.\",\n",
    "    \"Радует качество одежды и дружелюбный персонал. Цены здесь вполне адекватные, что делает магазин привлекательным для постоянных покупателей.\",\n",
    "    \"Цены в этом магазине явно завышены, а выбор оставляет желать лучшего. Не самый лучший выбор для тех, кто ценит соотношение цены и качества.\",\n",
    "    \"Обожаю этот магазин за своевременные новинки. Всегда можно найти что-то актуальное. Отличное соотношение цены и качества.\",\n",
    "    \"Покупаю здесь уже не первый раз. Очень довольна качеством и сервисом. Рекомендую этот магазин всем своим друзьям.\",\n",
    "    \"Заказывала в этом магазине подарок подруге. Все пришло в срок, аккуратно упаковано. Она осталась в восторге от стиля и качества вещей.\",\n",
    "    \"Отличный магазин! Очень красивые и стильные вещи по доступным ценам. Обслуживание на высоте, персонал дружелюбный и готов помочь с выбором. Всегда нахожу здесь что-то уникальное.\",\n",
    "]"
   ],
   "metadata": {
    "collapsed": false,
    "ExecuteTime": {
     "end_time": "2023-12-15T14:58:40.344660800Z",
     "start_time": "2023-12-15T14:58:40.335298500Z"
    }
   },
   "id": "703cd6a7e8e22c1e"
  },
  {
   "cell_type": "code",
   "execution_count": 13,
   "outputs": [
    {
     "name": "stdout",
     "output_type": "stream",
     "text": [
      "[('и', 23), ('можно', 8), ('для', 7), ('в', 7), ('на', 6), ('Цены', 6), ('магазин', 6), ('цены', 6), ('магазине', 5), ('с', 5)]\n"
     ]
    }
   ],
   "source": [
    "words = []\n",
    "for review in reviews:\n",
    "    words += review.split()\n",
    "\n",
    "word_counts = collections.Counter(words)\n",
    "print(word_counts.most_common(10))"
   ],
   "metadata": {
    "collapsed": false,
    "ExecuteTime": {
     "end_time": "2023-12-15T14:58:42.649805600Z",
     "start_time": "2023-12-15T14:58:42.630736800Z"
    }
   },
   "id": "2c8eedbabdfc341f"
  },
  {
   "cell_type": "code",
   "execution_count": 14,
   "outputs": [
    {
     "name": "stdout",
     "output_type": "stream",
     "text": [
      "(24, 210)\n"
     ]
    }
   ],
   "source": [
    "vect = CountVectorizer()\n",
    "X = vect.fit_transform(reviews)\n",
    "\n",
    "print(X.shape)"
   ],
   "metadata": {
    "collapsed": false,
    "ExecuteTime": {
     "end_time": "2023-12-15T14:58:55.260022700Z",
     "start_time": "2023-12-15T14:58:55.234873700Z"
    }
   },
   "id": "6b832e779d9625c4"
  },
  {
   "cell_type": "code",
   "execution_count": 15,
   "outputs": [],
   "source": [
    "\n",
    "\n",
    "lda = LatentDirichletAllocation(n_components=10, learning_method=\"batch\", max_iter=10, random_state=42)\n",
    "document_topics = lda.fit_transform(X)"
   ],
   "metadata": {
    "collapsed": false,
    "ExecuteTime": {
     "end_time": "2023-12-15T14:59:11.549032Z",
     "start_time": "2023-12-15T14:59:11.481786900Z"
    }
   },
   "id": "8356974c50ecd95d"
  },
  {
   "cell_type": "code",
   "execution_count": 16,
   "outputs": [
    {
     "data": {
      "text/plain": "(10, 210)"
     },
     "execution_count": 16,
     "metadata": {},
     "output_type": "execute_result"
    }
   ],
   "source": [
    "lda.components_.shape"
   ],
   "metadata": {
    "collapsed": false,
    "ExecuteTime": {
     "end_time": "2023-12-15T14:59:15.426065100Z",
     "start_time": "2023-12-15T14:59:15.403929400Z"
    }
   },
   "id": "78bda241c9ea50e4"
  },
  {
   "cell_type": "code",
   "execution_count": 17,
   "outputs": [],
   "source": [
    "sorting = np.argsort(lda.components_, axis=1)[:, ::-1]\n",
    "feature_names = np.array(vect.get_feature_names_out())"
   ],
   "metadata": {
    "collapsed": false,
    "ExecuteTime": {
     "end_time": "2023-12-15T14:59:20.717782900Z",
     "start_time": "2023-12-15T14:59:20.705139200Z"
    }
   },
   "id": "889a6a4ab85aaef7"
  },
  {
   "cell_type": "code",
   "execution_count": 18,
   "outputs": [
    {
     "name": "stdout",
     "output_type": "stream",
     "text": [
      "topic 0       topic 1       topic 2       topic 3       topic 4       \n",
      "--------      --------      --------      --------      --------      \n",
      "цены          цены          ничего        всегда        это           \n",
      "ничего        ничего        но            можно         место         \n",
      "найти         найти         найти         магазин       дружелюбный   \n",
      "место         место         базовые       этот          качество      \n",
      "магазин       магазин       шопинга       обслуживание  этот          \n",
      "магазине      магазине      место         то            персонал      \n",
      "вещи          вещи          выбор         на            готов         \n",
      "можно         можно         цены          здесь         помочь        \n",
      "отличное      отличное      приемлемые    что           выбором       \n",
      "этом          этом          вещи          новинки       очень         \n",
      "\n",
      "\n",
      "topic 5       topic 6       topic 7       topic 8       topic 9       \n",
      "--------      --------      --------      --------      --------      \n",
      "магазин       магазине      ничего        цены          цены          \n",
      "отличное      этом          что           ничего        вещи          \n",
      "место         качества      тоже          найти         магазин       \n",
      "этом          вещей         купил         место         не            \n",
      "найти         заказывала    возврат       магазин       стильные      \n",
      "по            пришло        пару          магазине      очень         \n",
      "ценам         подруге       шопинга       вещи          здесь         \n",
      "кто           подарок       бы            можно         для           \n",
      "тех           срок          обычные       отличное      что           \n",
      "ценит         упаковано     высоте        этом          персонал      \n"
     ]
    }
   ],
   "source": [
    "mglearn.tools.print_topics(topics=range(10), feature_names=feature_names, sorting=sorting, topics_per_chunk=5,\n",
    "                           n_words=10)"
   ],
   "metadata": {
    "collapsed": false,
    "ExecuteTime": {
     "end_time": "2023-12-15T14:59:22.588022400Z",
     "start_time": "2023-12-15T14:59:22.561050500Z"
    }
   },
   "id": "6f5be7f08fcec512"
  },
  {
   "cell_type": "code",
   "execution_count": 23,
   "outputs": [],
   "source": [
    "lda100 = LatentDirichletAllocation(n_components=110, learning_method=\"batch\", max_iter=15, random_state=47)\n",
    "document_topics100 = lda100.fit_transform(X)"
   ],
   "metadata": {
    "collapsed": false
   },
   "id": "9a7efc495c4041a2"
  },
  {
   "cell_type": "code",
   "execution_count": 27,
   "outputs": [
    {
     "data": {
      "text/plain": "<Figure size 640x480 with 1 Axes>",
      "image/png": "[encoded data removed]"
     },
     "metadata": {},
     "output_type": "display_data"
    }
   ],
   "source": [
    "#График распределения тем в документах: данный график отражает частоту встречаемости каждой темы в документах. Его можно использовать для оценки значимости каждой темы в контексте документов.\n",
    "plt.hist(document_topics, bins=10)\n",
    "plt.xlabel(\"Тема\")\n",
    "plt.ylabel(\"frequency\")\n",
    "plt.show()"
   ],
   "metadata": {
    "collapsed": false,
    "ExecuteTime": {
     "end_time": "2023-12-15T15:12:42.394405400Z",
     "start_time": "2023-12-15T15:12:41.724306800Z"
    }
   },
   "id": "dad709c7ebca5282"
  },
  {
   "cell_type": "code",
   "execution_count": 28,
   "outputs": [
    {
     "name": "stdout",
     "output_type": "stream",
     "text": [
      "topic 6       topic 13      topic 21      topic 25      topic 24      topic 36      topic 39      \n",
      "--------      --------      --------      --------      --------      --------      --------      \n",
      "явно          явно          явно          явно          упаковано     явно          явно          \n",
      "за            за            за            за            осталась      за            за            \n",
      "местом        местом        местом        местом        подруге       местом        местом        \n",
      "место         место         место         место         подарок       место         место         \n",
      "месте         месте         месте         месте         магазине      месте         месте         \n",
      "местах        местах        местах        местах        заказывала    местах        местах        \n",
      "магазине      магазине      магазине      магазине      срок          магазине      магазине      \n",
      "магазин       магазин       магазин       магазин       все           магазин       магазин       \n",
      "люблю         люблю         люблю         люблю         восторге      люблю         люблю         \n",
      "лучший        лучший        лучший        лучший        вещей         лучший        лучший        \n",
      "лучшее        лучшее        лучшее        лучшее        от            лучшее        лучшее        \n",
      "лучшего       лучшего       лучшего       лучшего       стиля         лучшего       лучшего       \n",
      "купил         купил         купил         купил         пришло        купил         купил         \n",
      "кто           кто           кто           кто           этом          кто           кто           \n",
      "красивые      красивые      красивые      красивые      аккуратно     красивые      красивые      \n",
      "комфорта      комфорта      комфорта      комфорта      она           комфорта      комфорта      \n",
      "коже          коже          коже          коже          качества      коже          коже          \n",
      "качеством     качеством     качеством     качеством     коже          качеством     качеством     \n",
      "качество      качество      качество      качество      лучший        качество      качество      \n",
      "качественной  качественной  качественной  качественной  месте         качественной  качественной  \n",
      "\n",
      "\n",
      "topic 42      topic 50      topic 55      topic 59      topic 86      topic 99      \n",
      "--------      --------      --------      --------      --------      --------      \n",
      "явно          явно          явно          явно          явно          явно          \n",
      "за            за            за            за            за            за            \n",
      "местом        местом        местом        местом        местом        местом        \n",
      "место         место         место         место         место         место         \n",
      "месте         месте         месте         месте         месте         месте         \n",
      "местах        местах        местах        местах        местах        местах        \n",
      "магазине      магазине      магазине      магазине      магазине      магазине      \n",
      "магазин       магазин       магазин       магазин       магазин       магазин       \n",
      "люблю         люблю         люблю         люблю         люблю         люблю         \n",
      "лучший        лучший        лучший        лучший        лучший        лучший        \n",
      "лучшее        лучшее        лучшее        лучшее        лучшее        лучшее        \n",
      "лучшего       лучшего       лучшего       лучшего       лучшего       лучшего       \n",
      "купил         купил         купил         купил         купил         купил         \n",
      "кто           кто           кто           кто           кто           кто           \n",
      "красивые      красивые      красивые      красивые      красивые      красивые      \n",
      "комфорта      комфорта      комфорта      комфорта      комфорта      комфорта      \n",
      "коже          коже          коже          коже          коже          коже          \n",
      "качеством     качеством     качеством     качеством     качеством     качеством     \n",
      "качество      качество      качество      качество      качество      качество      \n",
      "качественной  качественной  качественной  качественной  качественной  качественной  \n"
     ]
    }
   ],
   "source": [
    "topics = np.array([6, 13, 21, 25, 24, 36, 39, 42, 50, 55, 59, 86, 99])\n",
    "\n",
    "sorting = np.argsort(lda100.components_, axis=1)[:, ::-1]\n",
    "feature_names = np.array(vect.get_feature_names_out())\n",
    "mglearn.tools.print_topics(topics=topics, feature_names=feature_names, sorting=sorting, topics_per_chunk=7, n_words=20)"
   ],
   "metadata": {
    "collapsed": false,
    "ExecuteTime": {
     "end_time": "2023-12-15T15:12:48.983793Z",
     "start_time": "2023-12-15T15:12:48.972971700Z"
    }
   },
   "id": "f1c868151bd23551"
  },
  {
   "cell_type": "code",
   "execution_count": 35,
   "outputs": [
    {
     "data": {
      "text/plain": "<Figure size 480x480 with 1 Axes>",
      "image/png": "[encoded data removed]"
     },
     "metadata": {},
     "output_type": "display_data"
    }
   ],
   "source": [
    "#График корреляции тем: представленная визуализация отображает степень взаимосвязи между различными темами. Этот инструмент может быть полезен для выявления групп тем, обладающих взаимосвязью между собой.\n",
    "correlation = np.corrcoef(document_topics.T)\n",
    "\n",
    "plt.matshow(correlation, cmap=\"coolwarm\")\n",
    "plt.xlabel(\"Тема\")\n",
    "plt.ylabel(\"Тема\")\n",
    "plt.show()"
   ],
   "metadata": {
    "collapsed": false,
    "ExecuteTime": {
     "end_time": "2023-12-15T15:16:13.152159600Z",
     "start_time": "2023-12-15T15:16:12.948735200Z"
    }
   },
   "id": "1f94f18c0de97874"
  },
  {
   "cell_type": "code",
   "execution_count": 36,
   "outputs": [
    {
     "data": {
      "text/plain": "<Figure size 640x480 with 1 Axes>",
      "image/png": "[encoded data removed]"
     },
     "metadata": {},
     "output_type": "display_data"
    }
   ],
   "source": [
    "# Диаграмма распределения весов тем: представленный график иллюстрирует, как веса тем распределены в зависимости от их значений. Этот инструмент может быть использован для оценки степени выраженности каждой темы в документах.\n",
    "plt.hist(lda.components_, bins=100)\n",
    "plt.xlabel(\"Вес темы\")\n",
    "plt.ylabel(\"Частота\")\n",
    "plt.show()"
   ],
   "metadata": {
    "collapsed": false,
    "ExecuteTime": {
     "end_time": "2023-12-15T15:17:41.032525900Z",
     "start_time": "2023-12-15T15:17:20.366477100Z"
    }
   },
   "id": "8a7de54663ad0417"
  },
  {
   "cell_type": "markdown",
   "source": [
    "Выводы\n",
    "\n",
    "Мешок слов - это удобный и эффективный метод представления текстовой данных. Он может применяться для разнообразных задач обработки естественного языка, включая классификацию, кластеризацию и тематическое моделирование.\n",
    "\n",
    "В данном случае мешок слов может быть использован для анализа отзывов о магазинах. Например, можно использовать мешок слов для определения того, какие темы являются наиболее важными для посетителей магазинов в Санкт-Петербурге."
   ],
   "metadata": {
    "collapsed": false
   },
   "id": "2ba1092c934cd4c1"
  },
  {
   "cell_type": "code",
   "execution_count": 65,
   "outputs": [],
   "source": [],
   "metadata": {
    "collapsed": false,
    "ExecuteTime": {
     "end_time": "2023-12-09T14:14:31.151888500Z",
     "start_time": "2023-12-09T14:14:31.134586600Z"
    }
   },
   "id": "d40378e66ccf7a06"
  }
 ],
 "metadata": {
  "kernelspec": {
   "display_name": "Python 3",
   "language": "python",
   "name": "python3"
  },
  "language_info": {
   "codemirror_mode": {
    "name": "ipython",
    "version": 2
   },
   "file_extension": ".py",
   "mimetype": "text/x-python",
   "name": "python",
   "nbconvert_exporter": "python",
   "pygments_lexer": "ipython2",
   "version": "2.7.6"
  }
 },
 "nbformat": 4,
 "nbformat_minor": 5
}
