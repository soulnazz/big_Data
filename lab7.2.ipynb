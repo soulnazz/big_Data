{
 "cells": [
  {
   "cell_type": "code",
   "execution_count": 53,
   "outputs": [],
   "source": [
    "import collections\n",
    "from sklearn.feature_extraction.text import CountVectorizer\n",
    "from sklearn.decomposition import LatentDirichletAllocation\n",
    "import mglearn\n",
    "import matplotlib.pyplot as plt\n",
    "import numpy as np\n"
   ],
   "metadata": {
    "collapsed": false,
    "ExecuteTime": {
     "end_time": "2023-12-09T14:14:21.950549200Z",
     "start_time": "2023-12-09T14:14:21.877587500Z"
    }
   },
   "id": "51756310d976cdab"
  },
  {
   "cell_type": "code",
   "execution_count": 54,
   "outputs": [],
   "source": [
    "\n",
    "reviews = [\n",
    "    \"Отличный ресторан с вкусной кухней и приветливым персоналом. Обязательно рекомендую!\",\n",
    "    \"Очень атмосферное место с прекрасным видом на город. Еда тоже очень понравилась.\",\n",
    "    \"Не рекомендую этот ресторан. Еда была невкусной, а обслуживание - медленным.\",\n",
    "    \"Уютный ресторан с домашней кухней. Персонал очень внимательный и доброжелательный.\",\n",
    "    \"Отличная пицца и паста. Порции большие, цены приемлемые.\",\n",
    "    \"Ресторан в центре города. Атмосфера немного пафосная, но еда вкусная.\",\n",
    "    \"Недорогой ресторан с разнообразным меню. Еда в целом неплохая, но обслуживание могло бы быть лучше.\",\n",
    "    \"Ресторан с экзотической кухней. Еда интересная, но на любителя.\",\n",
    "    \"Отличный ресторан для семейного отдыха. Детское меню отличное, а аниматоры очень веселые.\",\n",
    "    \"Ресторан с панорамным видом на город. Еда средняя, а вот вид - потрясающий!\",\n",
    "    \"Ресторан с живой музыкой. Атмосфера очень приятная, но еда немного дороговата.\",\n",
    "    \"Ресторан с интересным интерьером. Еда вкусная, а обслуживание отличное.\",\n",
    "    \"Ресторан с традиционной русской кухней. Еда аутентичная, но порции небольшие.\",\n",
    "    \"Ресторан с авторскими блюдами. Еда оригинальная, но не всем понравится.\",\n",
    "    \"Ресторан с летним садом. Атмосфера очень уютная, а еда вкусная.\",\n",
    "    \"Ресторан с доставкой на дом. Еда вкусная, но цены немного выше, чем в обычных ресторанах.\",\n",
    "    \"Ресторан с вегетарианским меню. Еда разнообразная и вкусная.\",\n",
    "    \"Ресторан с халяль-кухней. Еда соответствует всем религиозным требованиям.\",\n",
    "    \"Ресторан с диетическим меню. Еда полезная и вкусная.\",\n",
    "    \"Ресторан с детским меню. Еда разнообразная и безопасная для детей.\",\n",
    "    \"Ресторан с бизнес-ланчем. Цены очень доступные, а еда вкусная.\",\n",
    "    \"Ресторан с банкетным залом. Отличное место для проведения праздников.\",\n",
    "    \"Ресторан с караоке. Отличное место для вечеринок.\",\n",
    "    \"Ресторан с кальяном. Отличное место для отдыха с друзьями.\",\n",
    "    \"Ресторан с террасой. Отличное место для отдыха на свежем воздухе.\",\n",
    "]"
   ],
   "metadata": {
    "collapsed": false,
    "ExecuteTime": {
     "end_time": "2023-12-09T14:14:22.010526100Z",
     "start_time": "2023-12-09T14:14:21.885417500Z"
    }
   },
   "id": "703cd6a7e8e22c1e"
  },
  {
   "cell_type": "code",
   "execution_count": 55,
   "outputs": [
    {
     "name": "stdout",
     "output_type": "stream",
     "text": [
      "[('с', 22), ('Ресторан', 18), ('Еда', 13), ('но', 7), ('и', 6), ('очень', 6), ('а', 6), ('для', 6), ('место', 5), ('на', 5)]\n"
     ]
    }
   ],
   "source": [
    "\n",
    "\n",
    "words = []\n",
    "for review in reviews:\n",
    "    words += review.split()\n",
    "\n",
    "word_counts = collections.Counter(words)\n",
    "print(word_counts.most_common(10))"
   ],
   "metadata": {
    "collapsed": false,
    "ExecuteTime": {
     "end_time": "2023-12-09T14:14:22.023533800Z",
     "start_time": "2023-12-09T14:14:21.889937100Z"
    }
   },
   "id": "2c8eedbabdfc341f"
  },
  {
   "cell_type": "code",
   "execution_count": 56,
   "outputs": [
    {
     "name": "stdout",
     "output_type": "stream",
     "text": [
      "(25, 116)\n"
     ]
    }
   ],
   "source": [
    "\n",
    "vect = CountVectorizer()\n",
    "X = vect.fit_transform(reviews)\n",
    "\n",
    "print(X.shape)"
   ],
   "metadata": {
    "collapsed": false,
    "ExecuteTime": {
     "end_time": "2023-12-09T14:14:22.076577500Z",
     "start_time": "2023-12-09T14:14:21.896337900Z"
    }
   },
   "id": "6b832e779d9625c4"
  },
  {
   "cell_type": "code",
   "execution_count": 57,
   "outputs": [],
   "source": [
    "\n",
    "\n",
    "lda = LatentDirichletAllocation(n_components=10, learning_method=\"batch\", max_iter=10, random_state=42)\n",
    "document_topics = lda.fit_transform(X)"
   ],
   "metadata": {
    "collapsed": false,
    "ExecuteTime": {
     "end_time": "2023-12-09T14:14:22.077572700Z",
     "start_time": "2023-12-09T14:14:21.904381Z"
    }
   },
   "id": "8356974c50ecd95d"
  },
  {
   "cell_type": "code",
   "execution_count": 58,
   "outputs": [
    {
     "data": {
      "text/plain": "(10, 116)"
     },
     "execution_count": 58,
     "metadata": {},
     "output_type": "execute_result"
    }
   ],
   "source": [
    "lda.components_.shape"
   ],
   "metadata": {
    "collapsed": false,
    "ExecuteTime": {
     "end_time": "2023-12-09T14:14:22.077572700Z",
     "start_time": "2023-12-09T14:14:21.942493500Z"
    }
   },
   "id": "78bda241c9ea50e4"
  },
  {
   "cell_type": "code",
   "execution_count": 59,
   "outputs": [],
   "source": [
    "sorting = np.argsort(lda.components_, axis=1)[:, ::-1]\n",
    "feature_names = np.array(vect.get_feature_names_out())"
   ],
   "metadata": {
    "collapsed": false,
    "ExecuteTime": {
     "end_time": "2023-12-09T14:14:22.077572700Z",
     "start_time": "2023-12-09T14:14:21.948371500Z"
    }
   },
   "id": "889a6a4ab85aaef7"
  },
  {
   "cell_type": "code",
   "execution_count": 60,
   "outputs": [
    {
     "name": "stdout",
     "output_type": "stream",
     "text": [
      "topic 0       topic 1       topic 2       topic 3       topic 4       \n",
      "--------      --------      --------      --------      --------      \n",
      "атмосфера     ресторан      ресторан      ресторан      еда           \n",
      "очень         для           еда           кухней        ресторан      \n",
      "но            место         вкусная       рекомендую    обслуживание  \n",
      "еда           отличное      для           отличный      меню          \n",
      "немного       разнообразная очень         обязательно   не            \n",
      "дороговата    на            отличное      персоналом    но            \n",
      "музыкой       свежем        место         приветливым   недорогой     \n",
      "живой         воздухе       на            вкусной       быть          \n",
      "приятная      террасой      атмосфера     домашней      бы            \n",
      "ресторан      караоке       меню          доброжелательныйлучше         \n",
      "\n",
      "\n",
      "topic 5       topic 6       topic 7       topic 8       topic 9       \n",
      "--------      --------      --------      --------      --------      \n",
      "ресторан      вкусная       еда           для           очень         \n",
      "еда           цены          кухней        место         еда           \n",
      "вкусная       очень         ресторан      отличное      ресторан      \n",
      "на            еда           но            отдыха        меню          \n",
      "но            бизнес        порции        кальяном      вкусная       \n",
      "немного       ланчем        всем          друзьями      отличное      \n",
      "ресторанах    доступные     небольшие     ресторан      видом         \n",
      "дом           ресторан      аутентичная   еда           город         \n",
      "выше          для           русской       вкусная       атмосферное   \n",
      "доставкой     отличное      традиционной  очень         понравилась   \n",
      "\n"
     ]
    }
   ],
   "source": [
    "\n",
    "mglearn.tools.print_topics(topics=range(10), feature_names=feature_names, sorting=sorting, topics_per_chunk=5,\n",
    "                           n_words=10)"
   ],
   "metadata": {
    "collapsed": false,
    "ExecuteTime": {
     "end_time": "2023-12-09T14:14:22.079564900Z",
     "start_time": "2023-12-09T14:14:21.954562100Z"
    }
   },
   "id": "6f5be7f08fcec512"
  },
  {
   "cell_type": "code",
   "execution_count": 61,
   "outputs": [],
   "source": [
    "lda100 = LatentDirichletAllocation(n_components=100, learning_method=\"batch\", max_iter=10, random_state=42)\n",
    "document_topics100 = lda100.fit_transform(X)"
   ],
   "metadata": {
    "collapsed": false,
    "ExecuteTime": {
     "end_time": "2023-12-09T14:14:22.079564900Z",
     "start_time": "2023-12-09T14:14:21.961324Z"
    }
   },
   "id": "9a7efc495c4041a2"
  },
  {
   "cell_type": "code",
   "execution_count": 62,
   "outputs": [
    {
     "name": "stdout",
     "output_type": "stream",
     "text": [
      "topic 7       topic 16      topic 24      topic 25      topic 28      topic 36      topic 37      \n",
      "--------      --------      --------      --------      --------      --------      --------      \n",
      "место         этот          этот          этот          этот          этот          ресторан      \n",
      "кальяном      обслуживание  интересная    интересная    интересная    интересная    вкусная       \n",
      "для           ресторан      диетическим   диетическим   диетическим   диетическим   еда           \n",
      "ресторан      рекомендую    для           для           для           для           города        \n",
      "друзьями      была          доброжелательныйдоброжелательныйдоброжелательныйдоброжелательныйно            \n",
      "отдыха        еда           дом           дом           дом           дом           немного       \n",
      "отличное      невкусной     домашней      домашней      домашней      домашней      пафосная      \n",
      "ланчем        не            дороговата    дороговата    дороговата    дороговата    центре        \n",
      "любителя      медленным     доставкой     доставкой     доставкой     доставкой     атмосфера     \n",
      "диетическим   доброжелательныйдоступные     доступные     доступные     доступные     диетическим   \n",
      "меню          дом           друзьями      друзьями      друзьями      друзьями      полезная      \n",
      "доброжелательныйдомашней      еда           еда           еда           еда           меню          \n",
      "дом           живой         живой         живой         живой         живой         дом           \n",
      "домашней      доставкой     залом         залом         залом         залом         домашней      \n",
      "дороговата    для           интересным    интересным    интересным    интересным    доброжелательный\n",
      "доставкой     доступные     экзотической  экзотической  экзотической  экзотической  дороговата    \n",
      "доступные     друзьями      интерьером    интерьером    интерьером    интерьером    доставкой     \n",
      "медленным     дороговата    кальяном      кальяном      кальяном      кальяном      доступные     \n",
      "еда           интересным    караоке       караоке       караоке       караоке       друзьями      \n",
      "кухней        залом         кухней        кухней        кухней        кухней        интересная    \n",
      "\n",
      "\n",
      "topic 45      topic 51      topic 53      topic 54      topic 89      topic 97      \n",
      "--------      --------      --------      --------      --------      --------      \n",
      "этот          этот          отличный      этот          этот          этот          \n",
      "интересная    интересная    ресторан      интересная    интересная    интересная    \n",
      "диетическим   диетическим   приветливым   диетическим   диетическим   диетическим   \n",
      "для           для           персоналом    для           для           для           \n",
      "доброжелательныйдоброжелательныйобязательно   доброжелательныйдоброжелательныйдоброжелательный\n",
      "дом           дом           кухней        дом           дом           дом           \n",
      "домашней      домашней      вкусной       домашней      домашней      домашней      \n",
      "дороговата    дороговата    рекомендую    дороговата    дороговата    дороговата    \n",
      "доставкой     доставкой     доставкой     доставкой     доставкой     доставкой     \n",
      "доступные     доступные     доступные     доступные     доступные     доступные     \n",
      "друзьями      друзьями      этот          друзьями      друзьями      друзьями      \n",
      "еда           еда           дороговата    еда           еда           еда           \n",
      "живой         живой         друзьями      живой         живой         живой         \n",
      "залом         залом         дом           залом         залом         залом         \n",
      "интересным    интересным    доброжелательныйинтересным    интересным    интересным    \n",
      "экзотической  экзотической  для           экзотической  экзотической  экзотической  \n",
      "интерьером    интерьером    домашней      интерьером    интерьером    интерьером    \n",
      "кальяном      кальяном      еда           кальяном      кальяном      кальяном      \n",
      "караоке       караоке       детское       караоке       караоке       караоке       \n",
      "кухней        кухней        живой         кухней        кухней        кухней        \n"
     ]
    }
   ],
   "source": [
    "topics = np.array([7, 16, 24, 25, 28, 36, 37, 45, 51, 53, 54, 89, 97])\n",
    "\n",
    "sorting = np.argsort(lda100.components_, axis=1)[:, ::-1]\n",
    "feature_names = np.array(vect.get_feature_names_out())\n",
    "mglearn.tools.print_topics(topics=topics, feature_names=feature_names, sorting=sorting, topics_per_chunk=7, n_words=20)"
   ],
   "metadata": {
    "collapsed": false,
    "ExecuteTime": {
     "end_time": "2023-12-09T14:14:22.102585600Z",
     "start_time": "2023-12-09T14:14:22.003449800Z"
    }
   },
   "id": "f1c868151bd23551"
  },
  {
   "cell_type": "code",
   "execution_count": 63,
   "outputs": [
    {
     "data": {
      "text/plain": "<Figure size 640x480 with 1 Axes>",
      "image/png": "[encoded data removed]"
     },
     "metadata": {},
     "output_type": "display_data"
    }
   ],
   "source": [
    "# График распределения тем по документам: этот график показывает, \n",
    "# как часто каждая тема встречается в документах. \n",
    "# Он может быть использован для оценки важности каждой темы.\n",
    "plt.hist(document_topics, bins=10)\n",
    "plt.xlabel(\"Тема\")\n",
    "plt.ylabel(\"Частота\")\n",
    "plt.show()"
   ],
   "metadata": {
    "collapsed": false,
    "ExecuteTime": {
     "end_time": "2023-12-09T14:14:22.247897400Z",
     "start_time": "2023-12-09T14:14:22.011530500Z"
    }
   },
   "id": "dad709c7ebca5282"
  },
  {
   "cell_type": "code",
   "execution_count": 64,
   "outputs": [
    {
     "data": {
      "text/plain": "<Figure size 480x480 with 1 Axes>",
      "image/png": "[encoded data removed]"
     },
     "metadata": {},
     "output_type": "display_data"
    }
   ],
   "source": [
    "# График корреляции тем: этот график показывает, насколько тесно связаны друг с другом различные темы. \n",
    "# Он может быть использован для выявления групп тем, которые связаны между собой.\n",
    "correlation = np.corrcoef(document_topics.T)\n",
    "\n",
    "plt.matshow(correlation, cmap=\"Blues\")\n",
    "plt.xlabel(\"Тема\")\n",
    "plt.ylabel(\"Тема\")\n",
    "plt.show()"
   ],
   "metadata": {
    "collapsed": false,
    "ExecuteTime": {
     "end_time": "2023-12-09T14:14:22.327103100Z",
     "start_time": "2023-12-09T14:14:22.175776300Z"
    }
   },
   "id": "1f94f18c0de97874"
  },
  {
   "cell_type": "code",
   "execution_count": 65,
   "outputs": [
    {
     "data": {
      "text/plain": "<Figure size 640x480 with 1 Axes>",
      "image/png": "[encoded data removed]"
     },
     "metadata": {},
     "output_type": "display_data"
    }
   ],
   "source": [
    "# График распределения весов тем: этот график показывает, как веса тем распределяются по значениям. \n",
    "# Он может быть использован для оценки того, насколько сильно каждая тема выражена в документах.\n",
    "plt.hist(lda.components_, bins=100)\n",
    "plt.xlabel(\"Вес темы\")\n",
    "plt.ylabel(\"Частота\")\n",
    "plt.show()"
   ],
   "metadata": {
    "collapsed": false,
    "ExecuteTime": {
     "end_time": "2023-12-09T14:14:31.151888500Z",
     "start_time": "2023-12-09T14:14:22.301989500Z"
    }
   },
   "id": "8a7de54663ad0417"
  },
  {
   "cell_type": "markdown",
   "source": [
    "Выводы\n",
    "\n",
    "Мешок слов - это простой и эффективный способ представления текстовых данных. Он может быть использован для различных задач обработки естественного языка, таких как классификация, кластеризация и тематическое моделирование.\n",
    "\n",
    "В данном случае мешок слов может быть использован для анализа отзывов о ресторанах. Например, можно использовать мешок слов для определения того, какие темы являются наиболее важными для посетителей ресторанов в Санкт-Петербурге."
   ],
   "metadata": {
    "collapsed": false
   },
   "id": "2ba1092c934cd4c1"
  },
  {
   "cell_type": "code",
   "execution_count": 65,
   "outputs": [],
   "source": [],
   "metadata": {
    "collapsed": false,
    "ExecuteTime": {
     "end_time": "2023-12-09T14:14:31.151888500Z",
     "start_time": "2023-12-09T14:14:31.134586600Z"
    }
   },
   "id": "d40378e66ccf7a06"
  }
 ],
 "metadata": {
  "kernelspec": {
   "display_name": "Python 3",
   "language": "python",
   "name": "python3"
  },
  "language_info": {
   "codemirror_mode": {
    "name": "ipython",
    "version": 2
   },
   "file_extension": ".py",
   "mimetype": "text/x-python",
   "name": "python",
   "nbconvert_exporter": "python",
   "pygments_lexer": "ipython2",
   "version": "2.7.6"
  }
 },
 "nbformat": 4,
 "nbformat_minor": 5
}
