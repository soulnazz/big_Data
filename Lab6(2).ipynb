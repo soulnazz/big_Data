{
 "cells": [
  {
   "cell_type": "markdown",
   "id": "ba6fb7c6-291b-4525-8dca-60c90d924c8e",
   "metadata": {},
   "source": [
    "### 2. Используя один из подходящих игрушечных датасетов (breast_canser, digits, diabetes …) применить алгоритмы улучшения качества и оценки моделей (перекрестная проверка, решетчатый поиск, метрики модели)\n"
   ]
  },
  {
   "cell_type": "code",
   "execution_count": 1,
   "id": "52f2f840-f379-4a39-8ace-58351d6d0d9b",
   "metadata": {},
   "outputs": [],
   "source": [
    "from sklearn.model_selection import cross_val_score, GridSearchCV\n",
    "from sklearn.ensemble import RandomForestClassifier\n",
    "\n",
    "# Загрузка датасета\n",
    "from sklearn.datasets import load_breast_cancer\n",
    "\n",
    "data = load_breast_cancer()\n",
    "X = data.data\n",
    "y = data.target"
   ]
  },
  {
   "cell_type": "code",
   "execution_count": 2,
   "id": "5c71ed35-df3e-483c-b791-797ace48bb03",
   "metadata": {},
   "outputs": [
    {
     "name": "stdout",
     "output_type": "stream",
     "text": [
      "Оценкв перекрестной проверки: [0.92982456 0.95614035 0.99122807 0.96491228 0.96460177]\n"
     ]
    }
   ],
   "source": [
    "# перекрестная проверка\n",
    "cross_val_scores = cross_val_score(RandomForestClassifier(), X, y, cv=5)\n",
    "print(f'Оценкв перекрестной проверки: {cross_val_scores}')"
   ]
  },
  {
   "cell_type": "code",
   "execution_count": 3,
   "id": "0120fa2a-cae5-40fc-a9a2-19fbf285a4c6",
   "metadata": {},
   "outputs": [
    {
     "name": "stdout",
     "output_type": "stream",
     "text": [
      "best parametr: {'max_depth': 10, 'n_estimators': 100}\n"
     ]
    }
   ],
   "source": [
    "\n",
    "# Пример применения решетчатого поиска\n",
    "param_grid = {'n_estimators': [50, 100, 200], 'max_depth': [None, 10, 20]}\n",
    "grid_search = GridSearchCV(RandomForestClassifier(), param_grid, cv=5)\n",
    "grid_search.fit(X, y)\n",
    "print(f'best parametr: {grid_search.best_params_}')\n",
    "\n"
   ]
  },
  {
   "cell_type": "code",
   "execution_count": 4,
   "id": "7ba51ea0-51e7-4dc2-9030-9e86633ece2b",
   "metadata": {},
   "outputs": [
    {
     "name": "stdout",
     "output_type": "stream",
     "text": [
      "accuracy: 0.9596836419753085\n"
     ]
    }
   ],
   "source": [
    "accuracy = cross_val_score(RandomForestClassifier(), X, y, cv=9, scoring='accuracy')\n",
    "print(f'accuracy: {accuracy.mean()}')"
   ]
  },
  {
   "cell_type": "code",
   "execution_count": null,
   "id": "447cc882-1362-41d7-aa33-6f845fb886a4",
   "metadata": {},
   "outputs": [],
   "source": []
  }
 ],
 "metadata": {
  "kernelspec": {
   "display_name": "Python 3 (ipykernel)",
   "language": "python",
   "name": "python3"
  },
  "language_info": {
   "codemirror_mode": {
    "name": "ipython",
    "version": 3
   },
   "file_extension": ".py",
   "mimetype": "text/x-python",
   "name": "python",
   "nbconvert_exporter": "python",
   "pygments_lexer": "ipython3",
   "version": "3.11.5"
  }
 },
 "nbformat": 4,
 "nbformat_minor": 5
}
